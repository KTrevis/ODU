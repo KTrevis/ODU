{
 "cells": [
  {
   "cell_type": "code",
   "execution_count": 38,
   "id": "082bbb2a-5811-40ce-aa80-50d716997bdc",
   "metadata": {},
   "outputs": [],
   "source": [
    "import geopandas as gpd\n",
    "import pandas as pd\n",
    "import folium as fl"
   ]
  },
  {
   "cell_type": "code",
   "execution_count": 41,
   "id": "909ccdef-8218-48f1-a626-c2e46e15f6ce",
   "metadata": {},
   "outputs": [],
   "source": [
    "results = pd.read_csv('resultats.csv')"
   ]
  },
  {
   "cell_type": "code",
   "execution_count": 4,
   "id": "5bea3ea0-847c-4279-ae0f-8646315f3a6f",
   "metadata": {},
   "outputs": [],
   "source": [
    "geojson = gpd.read_file('./contours-france-entiere-latest.geojson')"
   ]
  },
  {
   "cell_type": "code",
   "execution_count": 63,
   "id": "e46907f0-f363-45f1-a1e4-658acc5e2e1a",
   "metadata": {},
   "outputs": [
    {
     "name": "stdout",
     "output_type": "stream",
     "text": [
      "      id_bureau                                           geometry\n",
      "0       01001_1  POLYGON ((4.95812 46.15316, 4.95771 46.15288, ...\n",
      "1       01002_1  POLYGON ((5.43001 45.98299, 5.42980 45.98312, ...\n",
      "2       01004_1  POLYGON ((5.33312 45.95904, 5.33358 45.95987, ...\n",
      "3       01004_2  MULTIPOLYGON (((5.35287 45.95468, 5.35225 45.9...\n",
      "4       01004_3  POLYGON ((5.36083 45.94544, 5.36069 45.94557, ...\n",
      "...         ...                                                ...\n",
      "68801  97617_23  MULTIPOLYGON (((45.13320 -12.79175, 45.13341 -...\n",
      "68802  97617_49  MULTIPOLYGON (((45.13359 -12.79192, 45.13344 -...\n",
      "68803  97617_73  MULTIPOLYGON (((45.09781 -12.79254, 45.09773 -...\n",
      "68804  97617_74  MULTIPOLYGON (((45.13136 -12.79085, 45.13146 -...\n",
      "68805  97617_99  MULTIPOLYGON (((45.15257 -12.80427, 45.14759 -...\n",
      "\n",
      "[68806 rows x 2 columns]\n"
     ]
    }
   ],
   "source": [
    "m = fl.Map(location=[46.603354, 1.888334], zoom_start=5, prefer_canvas=True)\n",
    "geojson = geojson.rename(columns={'id_bv': 'id_bureau'})\n",
    "merged = pd.merge(results, geojson, on='id_bureau')"
   ]
  },
  {
   "cell_type": "code",
   "execution_count": 61,
   "id": "f656a31b-3132-4aec-8b10-4af05706af7d",
   "metadata": {},
   "outputs": [],
   "source": [
    "from folium.plugins import MarkerCluster\n",
    "\n",
    "markerCluster = MarkerCluster().add_to(m)\n",
    "\n",
    "def iterativeAddMarker():\n",
    "    for _, row in geojson.iterrows():\n",
    "        centroid = row['geometry'].centroid\n",
    "        fl.Marker(\n",
    "            location=[centroid.y, centroid.x],\n",
    "            tooltip=row['id_bureau'],\n",
    "        ).add_to(markerCluster)\n",
    "\n",
    "iterativeAddMarker()"
   ]
  },
  {
   "cell_type": "code",
   "execution_count": 9,
   "id": "791d68d6-db7f-44cb-a712-cf0358b9b04a",
   "metadata": {},
   "outputs": [],
   "source": [
    "m.save('./index.html')"
   ]
  },
  {
   "cell_type": "code",
   "execution_count": null,
   "id": "75e42efb-50a9-4832-94c2-1d15a76585ab",
   "metadata": {},
   "outputs": [],
   "source": []
  }
 ],
 "metadata": {
  "kernelspec": {
   "display_name": "Python 3 (ipykernel)",
   "language": "python",
   "name": "python3"
  },
  "language_info": {
   "codemirror_mode": {
    "name": "ipython",
    "version": 3
   },
   "file_extension": ".py",
   "mimetype": "text/x-python",
   "name": "python",
   "nbconvert_exporter": "python",
   "pygments_lexer": "ipython3",
   "version": "3.10.12"
  }
 },
 "nbformat": 4,
 "nbformat_minor": 5
}

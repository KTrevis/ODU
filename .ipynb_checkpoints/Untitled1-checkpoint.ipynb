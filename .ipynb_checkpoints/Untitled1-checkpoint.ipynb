{
 "cells": [
  {
   "cell_type": "code",
   "execution_count": 8,
   "id": "9edc1af9-0ae4-4781-95d9-b7bf9f14eba2",
   "metadata": {},
   "outputs": [],
   "source": [
    "import pandas\n",
    "import geopandas"
   ]
  },
  {
   "cell_type": "code",
   "execution_count": 31,
   "id": "079a6801-8820-434b-9a4a-fca6d4a0aedb",
   "metadata": {},
   "outputs": [],
   "source": [
    "excel = pandas.read_excel(\"resultats.xlsx\", dtype = str)"
   ]
  },
  {
   "cell_type": "code",
   "execution_count": 10,
   "id": "c904399b-8303-45b2-98ba-a1a422beb75a",
   "metadata": {},
   "outputs": [],
   "source": [
    "excel.loc[:, (7984, 'Code du b.vote')] = \"40.1\""
   ]
  },
  {
   "cell_type": "code",
   "execution_count": 11,
   "id": "04f6795e-4a1e-4a32-819f-0857e83a229f",
   "metadata": {},
   "outputs": [],
   "source": [
    "excel['Code du b.vote'] = excel['Code du b.vote'].str.lstrip('0')"
   ]
  },
  {
   "cell_type": "code",
   "execution_count": 35,
   "id": "ad14f4c5-8f20-42ea-959d-a0375f8bfc4d",
   "metadata": {},
   "outputs": [],
   "source": [
    "excel = excel[excel['Code du département'] != 'ZZ']\n",
    "excel = excel[excel['Code du département'] != 'ZX']\n",
    "excel = excel[excel['Code du département'] != 'ZW']\n",
    "excel = excel[excel['Code du département'] != 'ZP']\n",
    "excel = excel[excel['Code du département'] != 'ZN']\n",
    "excel.loc[~excel['Code du département'].astype(str).str.contains(r'\\d', na=False), 'Code du département'] = '97'\n",
    "excel = excel[excel['Libellé de la commune'] != 'Paris']\n",
    "excel.rename(columns={'Nom': 'Nom 1'}, inplace=True)"
   ]
  },
  {
   "cell_type": "code",
   "execution_count": 39,
   "id": "e0413e94-cce8-445d-8e4b-a1b72f63a9b8",
   "metadata": {},
   "outputs": [],
   "source": [
    "paris = geopandas.read_file('paris.json')"
   ]
  },
  {
   "cell_type": "code",
   "execution_count": 37,
   "id": "f700dbf2-2dd7-4f7d-b58a-cc88ffd702ee",
   "metadata": {},
   "outputs": [],
   "source": [
    "def renameShit():\n",
    "    to_rename = ['N°Panneau', 'Sexe', 'Nom', 'Prénom', 'Voix', '% Voix/Ins','% Voix/Exp']\n",
    "    for curr in to_rename:\n",
    "        excel.rename(columns={curr: curr + '.1'}, inplace=True)\n",
    "    unnamed = ['Unnamed: 28', 'Unnamed: 29','Unnamed: 30', 'Unnamed: 31', 'Unnamed: 32','Unnamed: 33','Unnamed: 34']\n",
    "    for i in range(len(to_rename)):\n",
    "        excel.rename(columns={unnamed[i]: to_rename[i] + '.2'}, inplace=True)\n",
    "renameShit()"
   ]
  },
  {
   "cell_type": "code",
   "execution_count": 15,
   "id": "645bd5aa-9222-4b7b-9583-363e19874bd1",
   "metadata": {},
   "outputs": [],
   "source": [
    "formatted = pandas.DataFrame()\n",
    "formatted['id_bv'] = excel['Code du département'] + excel['Code de la commune'] + '_' + excel['Code du b.vote']"
   ]
  },
  {
   "cell_type": "code",
   "execution_count": 40,
   "id": "3fe8dc85-2e28-49b8-8eea-7cdbcb748dae",
   "metadata": {},
   "outputs": [],
   "source": [
    "geojson = geopandas.read_file('contours.json')"
   ]
  },
  {
   "cell_type": "code",
   "execution_count": 49,
   "id": "811bac5c-f2a8-414a-953e-6dc5bea0bda1",
   "metadata": {},
   "outputs": [
    {
     "name": "stdout",
     "output_type": "stream",
     "text": [
      "          id    id_bv  % Abs/Ins     Nom  % Voix/Ins  % Voix/Exp   Nom.1  \\\n",
      "0          0  01001_1      22.71  MACRON       36.86       52.67  LE PEN   \n",
      "1          1  01002_1      21.13  MACRON       44.13       66.20  LE PEN   \n",
      "2          2  01004_1      28.50  MACRON       31.86       50.35  LE PEN   \n",
      "3          3  01004_2      27.72  MACRON       37.73       56.57  LE PEN   \n",
      "4          4  01004_3      24.98  MACRON       37.02       55.99  LE PEN   \n",
      "...      ...      ...        ...     ...         ...         ...     ...   \n",
      "63597  63597  95680_7      45.70  MACRON       34.94       70.89  LE PEN   \n",
      "63598  63598  95680_8      36.08  MACRON       38.89       66.72  LE PEN   \n",
      "63599  63599  95680_9      45.27  MACRON       38.71       75.80  LE PEN   \n",
      "63600  63600  95682_1      23.64  MACRON       45.45       62.50  LE PEN   \n",
      "63601  63601  95690_1      18.60  MACRON       45.26       60.00  LE PEN   \n",
      "\n",
      "       % Voix/Ins.1  % Voix/Exp.1  \\\n",
      "0             33.13         47.33   \n",
      "1             22.54         33.80   \n",
      "2             31.42         49.65   \n",
      "3             28.96         43.43   \n",
      "4             29.10         44.01   \n",
      "...             ...           ...   \n",
      "63597         14.34         29.11   \n",
      "63598         19.40         33.28   \n",
      "63599         12.36         24.20   \n",
      "63600         27.27         37.50   \n",
      "63601         30.18         40.00   \n",
      "\n",
      "                                                geometry  \n",
      "0      POLYGON ((4.95812 46.15316, 4.95771 46.15288, ...  \n",
      "1      POLYGON ((5.43001 45.98299, 5.42980 45.98312, ...  \n",
      "2      POLYGON ((5.33312 45.95904, 5.33358 45.95987, ...  \n",
      "3      MULTIPOLYGON (((5.35287 45.95468, 5.35225 45.9...  \n",
      "4      POLYGON ((5.36083 45.94544, 5.36069 45.94557, ...  \n",
      "...                                                  ...  \n",
      "63597  POLYGON ((2.40020 49.00387, 2.39993 49.00390, ...  \n",
      "63598  MULTIPOLYGON (((2.41433 48.99663, 2.41438 48.9...  \n",
      "63599  POLYGON ((2.39307 49.00189, 2.39357 49.00251, ...  \n",
      "63600  POLYGON ((2.39660 49.08664, 2.39800 49.08556, ...  \n",
      "63601  POLYGON ((1.82273 49.07629, 1.81882 49.07639, ...  \n",
      "\n",
      "[63602 rows x 10 columns]\n"
     ]
    }
   ],
   "source": [
    "print(geojson)\n",
    "#print(excel['Voix.1'][0])"
   ]
  },
  {
   "cell_type": "code",
   "execution_count": null,
   "id": "e447ae18-578d-4774-854f-750625f132ed",
   "metadata": {},
   "outputs": [],
   "source": []
  }
 ],
 "metadata": {
  "kernelspec": {
   "display_name": "Python 3 (ipykernel)",
   "language": "python",
   "name": "python3"
  },
  "language_info": {
   "codemirror_mode": {
    "name": "ipython",
    "version": 3
   },
   "file_extension": ".py",
   "mimetype": "text/x-python",
   "name": "python",
   "nbconvert_exporter": "python",
   "pygments_lexer": "ipython3",
   "version": "3.10.12"
  }
 },
 "nbformat": 4,
 "nbformat_minor": 5
}

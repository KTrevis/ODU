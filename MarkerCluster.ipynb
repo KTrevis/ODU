{
 "cells": [
  {
   "cell_type": "code",
   "execution_count": 3,
   "id": "082bbb2a-5811-40ce-aa80-50d716997bdc",
   "metadata": {},
   "outputs": [],
   "source": [
    "import geopandas as gpd\n",
    "import folium as fl"
   ]
  },
  {
   "cell_type": "code",
   "execution_count": 4,
   "id": "5bea3ea0-847c-4279-ae0f-8646315f3a6f",
   "metadata": {},
   "outputs": [],
   "source": [
    "geojson = gpd.read_file('./contours-france-entiere-latest.geojson')"
   ]
  },
  {
   "cell_type": "code",
   "execution_count": 5,
   "id": "e46907f0-f363-45f1-a1e4-658acc5e2e1a",
   "metadata": {},
   "outputs": [],
   "source": [
    "m = fl.Map(location=[46.603354, 1.888334], zoom_start=5, prefer_canvas=True)"
   ]
  },
  {
   "cell_type": "code",
   "execution_count": 8,
   "id": "f656a31b-3132-4aec-8b10-4af05706af7d",
   "metadata": {},
   "outputs": [],
   "source": [
    "from folium.plugins import MarkerCluster\n",
    "\n",
    "markerCluster = MarkerCluster().add_to(m)\n",
    "\n",
    "def iterativeAddMarker():\n",
    "    for _, row in geojson.iterrows():\n",
    "        centroid = row['geometry'].centroid\n",
    "        fl.Marker(\n",
    "            location=[centroid.y, centroid.x],\n",
    "            tooltip=row['id_bv']\n",
    "        ).add_to(markerCluster)\n",
    "\n",
    "iterativeAddMarker()"
   ]
  },
  {
   "cell_type": "code",
   "execution_count": 9,
   "id": "791d68d6-db7f-44cb-a712-cf0358b9b04a",
   "metadata": {},
   "outputs": [],
   "source": [
    "m.save('./index.html')"
   ]
  },
  {
   "cell_type": "code",
   "execution_count": null,
   "id": "75e42efb-50a9-4832-94c2-1d15a76585ab",
   "metadata": {},
   "outputs": [],
   "source": []
  }
 ],
 "metadata": {
  "kernelspec": {
   "display_name": "Python 3 (ipykernel)",
   "language": "python",
   "name": "python3"
  },
  "language_info": {
   "codemirror_mode": {
    "name": "ipython",
    "version": 3
   },
   "file_extension": ".py",
   "mimetype": "text/x-python",
   "name": "python",
   "nbconvert_exporter": "python",
   "pygments_lexer": "ipython3",
   "version": "3.10.12"
  }
 },
 "nbformat": 4,
 "nbformat_minor": 5
}

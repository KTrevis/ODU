{
 "cells": [
  {
   "cell_type": "code",
   "execution_count": 3,
   "id": "f0eca22f-57d0-4f0a-bb7f-1b527e00c7e6",
   "metadata": {},
   "outputs": [],
   "source": [
    "import pandas as pd\n",
    "\n",
    "conversion = {\n",
    "        'Code du département': str,\n",
    "        'Code de la circonscription': str,\n",
    "        'Code de la commune': str,\n",
    "        'Code du b.vote': str\n",
    "    }\n",
    "\n",
    "excel = pd.read_excel('resultats-par-niveau-burvot-t2-france-entiere.xlsx', converters = conversion)"
   ]
  },
  {
   "cell_type": "code",
   "execution_count": 13,
   "id": "2d03bc94-6bcf-4c81-8673-7ae1d84962df",
   "metadata": {},
   "outputs": [],
   "source": [
    "excel['Code du b.vote'] = [i.strip('0') for i in excel['Code du b.vote']]"
   ]
  },
  {
   "cell_type": "code",
   "execution_count": 14,
   "id": "56ba8f28-018e-44d7-8872-9276ed7d6165",
   "metadata": {},
   "outputs": [
    {
     "data": {
      "text/plain": [
       "0        1\n",
       "1        1\n",
       "2        1\n",
       "3        2\n",
       "4        3\n",
       "        ..\n",
       "69677    1\n",
       "69678    1\n",
       "69679    1\n",
       "69680    1\n",
       "69681    1\n",
       "Name: Code du b.vote, Length: 69682, dtype: object"
      ]
     },
     "execution_count": 14,
     "metadata": {},
     "output_type": "execute_result"
    }
   ],
   "source": [
    "excel['Code du b.vote']"
   ]
  },
  {
   "cell_type": "code",
   "execution_count": null,
   "id": "b96127ea-5dba-4c3b-86b9-70c445f70da6",
   "metadata": {},
   "outputs": [],
   "source": []
  }
 ],
 "metadata": {
  "kernelspec": {
   "display_name": "Python 3 (ipykernel)",
   "language": "python",
   "name": "python3"
  },
  "language_info": {
   "codemirror_mode": {
    "name": "ipython",
    "version": 3
   },
   "file_extension": ".py",
   "mimetype": "text/x-python",
   "name": "python",
   "nbconvert_exporter": "python",
   "pygments_lexer": "ipython3",
   "version": "3.10.12"
  }
 },
 "nbformat": 4,
 "nbformat_minor": 5
}

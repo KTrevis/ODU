{
 "cells": [
  {
   "cell_type": "code",
   "execution_count": 2,
   "id": "4cd5d7d2-3cf8-4053-8877-68ff30209a43",
   "metadata": {},
   "outputs": [],
   "source": [
    "import pandas as pd\n",
    "import geopandas as gpd"
   ]
  },
  {
   "cell_type": "code",
   "execution_count": 38,
   "id": "13ab8eeb-9545-4a9d-a3d1-3b731015bf2c",
   "metadata": {},
   "outputs": [],
   "source": [
    "csv = pd.read_csv(\"resultats.csv\")"
   ]
  },
  {
   "cell_type": "code",
   "execution_count": 6,
   "id": "d31da383-b479-4b4e-a489-9bebe3156c9d",
   "metadata": {},
   "outputs": [],
   "source": [
    "geojson = gpd.read_file(\"contours-france-entiere-latest.geojson\")"
   ]
  },
  {
   "cell_type": "code",
   "execution_count": 39,
   "id": "ef3ce5ea-a608-447a-901a-e5d8b77b5784",
   "metadata": {},
   "outputs": [],
   "source": [
    "csv = csv.rename(columns={\"id_bureau\": \"id_bv\"})"
   ]
  },
  {
   "cell_type": "code",
   "execution_count": 166,
   "id": "abaa5d2e-0ac1-47e2-8672-e6b4c9df4135",
   "metadata": {},
   "outputs": [],
   "source": [
    "merge = pd.merge(geojson, csv, how=\"left\", on='id_bv')"
   ]
  },
  {
   "cell_type": "code",
   "execution_count": 47,
   "id": "48ce652e-ff0a-47c3-beab-2de5da5c388c",
   "metadata": {},
   "outputs": [],
   "source": [
    "futureFile = merge.to_json()"
   ]
  },
  {
   "cell_type": "code",
   "execution_count": 48,
   "id": "2065713a-6eff-4b48-bf77-3685bb64eb6a",
   "metadata": {},
   "outputs": [],
   "source": [
    "with open('contours.json', 'w') as f:\n",
    "    f.write(futureFile)"
   ]
  },
  {
   "cell_type": "code",
   "execution_count": null,
   "id": "1596568f-929d-4144-bd8a-43edfe461392",
   "metadata": {},
   "outputs": [],
   "source": []
  }
 ],
 "metadata": {
  "kernelspec": {
   "display_name": "Python 3 (ipykernel)",
   "language": "python",
   "name": "python3"
  },
  "language_info": {
   "codemirror_mode": {
    "name": "ipython",
    "version": 3
   },
   "file_extension": ".py",
   "mimetype": "text/x-python",
   "name": "python",
   "nbconvert_exporter": "python",
   "pygments_lexer": "ipython3",
   "version": "3.10.12"
  }
 },
 "nbformat": 4,
 "nbformat_minor": 5
}

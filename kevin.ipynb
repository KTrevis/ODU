{
 "cells": [
  {
   "cell_type": "code",
   "execution_count": 446,
   "id": "9edc1af9-0ae4-4781-95d9-b7bf9f14eba2",
   "metadata": {},
   "outputs": [],
   "source": [
    "import pandas as pd\n",
    "import geopandas as gpd"
   ]
  },
  {
   "cell_type": "code",
   "execution_count": 447,
   "id": "079a6801-8820-434b-9a4a-fca6d4a0aedb",
   "metadata": {},
   "outputs": [],
   "source": [
    "excel = pd.read_excel(\"./resultats.xlsx\", dtype = str)"
   ]
  },
  {
   "cell_type": "code",
   "execution_count": 448,
   "id": "21755575",
   "metadata": {},
   "outputs": [],
   "source": [
    "geojson = gpd.read_file(\"./clean-contours.json\")"
   ]
  },
  {
   "cell_type": "code",
   "execution_count": 449,
   "id": "19f9263d",
   "metadata": {},
   "outputs": [],
   "source": [
    "paris =  gpd.read_file('./paris.json')"
   ]
  },
  {
   "cell_type": "code",
   "execution_count": 450,
   "id": "c904399b-8303-45b2-98ba-a1a422beb75a",
   "metadata": {},
   "outputs": [],
   "source": [
    "excel.at[7984, 'Code du b.vote'] = \"40.1\" #ajustement caen"
   ]
  },
  {
   "cell_type": "code",
   "execution_count": 451,
   "id": "04f6795e-4a1e-4a32-819f-0857e83a229f",
   "metadata": {},
   "outputs": [],
   "source": [
    "excel['Code du b.vote'] = excel['Code du b.vote'].str.lstrip('0') #enlever les 0 pour correspondre au geojson"
   ]
  },
  {
   "cell_type": "code",
   "execution_count": 452,
   "id": "ad14f4c5-8f20-42ea-959d-a0375f8bfc4d",
   "metadata": {},
   "outputs": [],
   "source": [
    "#tom + bureau étranger\n",
    "excel = excel[excel['Code du département'] != 'ZZ']\n",
    "excel = excel[excel['Code du département'] != 'ZX']\n",
    "excel = excel[excel['Code du département'] != 'ZW']\n",
    "excel = excel[excel['Code du département'] != 'ZP']\n",
    "excel = excel[excel['Code du département'] != 'ZN']\n",
    "excel.loc[~excel['Code du département'].astype(str).str.contains(r'\\d', na=False), 'Code du département'] = '97'\n",
    "#virer paris\n",
    "excel = excel[excel['Libellé de la commune'] != 'Paris']"
   ]
  },
  {
   "cell_type": "code",
   "execution_count": 453,
   "id": "f700dbf2-2dd7-4f7d-b58a-cc88ffd702ee",
   "metadata": {},
   "outputs": [],
   "source": [
    "#renommer les unamed de excel\n",
    "def renameShit():\n",
    "    to_rename = ['N°Panneau', 'Sexe', 'Nom', 'Prénom', 'Voix', '% Voix/Ins','% Voix/Exp']\n",
    "    for curr in to_rename:\n",
    "        excel.rename(columns={curr: curr + '.1'}, inplace=True)\n",
    "    unnamed = ['Unnamed: 28', 'Unnamed: 29','Unnamed: 30', 'Unnamed: 31', 'Unnamed: 32','Unnamed: 33','Unnamed: 34']\n",
    "    for i in range(len(to_rename)):\n",
    "        excel.rename(columns={unnamed[i]: to_rename[i] + '.2'}, inplace=True)\n",
    "renameShit()"
   ]
  },
  {
   "cell_type": "code",
   "execution_count": 454,
   "id": "645bd5aa-9222-4b7b-9583-363e19874bd1",
   "metadata": {},
   "outputs": [],
   "source": [
    "#nouveau df formatted avec juste les colonnes importantes de excel\n",
    "formatted = gpd.GeoDataFrame()\n",
    "formatted['id_bvote'] = excel['Code du département'] + excel['Code de la commune'] + '_' + excel['Code du b.vote']\n",
    "nom = ['Libellé de la commune', 'Votants', '% Abs/Ins', '% Voix/Exp.1', '% Voix/Exp.2']\n",
    "for curr in nom:\n",
    "    formatted[nom] = excel[nom]\n",
    "formatted.rename(columns={'% Voix/Exp.1': '% macron_emmanuel'}, inplace=True)\n",
    "formatted.rename(columns={'% Voix/Exp.2': '% le_pen_marine'}, inplace=True)"
   ]
  },
  {
   "cell_type": "code",
   "execution_count": 455,
   "id": "e447ae18-578d-4774-854f-750625f132ed",
   "metadata": {},
   "outputs": [],
   "source": [
    "paris = paris.drop(columns=['type_election', 'annee', 'numero_tour', 'date_tour', 'circ_bv', 'quartier_bv', 'arr_bv', \n",
    "                    'sec_bv', 'num_bureau', 'nb_procuration', 'nb_emargement', 'nb_vote_blanc',\n",
    "                    'nb_vote_nul', 'geo_point_2d', 'created_user', 'created_date', 'last_edited_user',\n",
    "                   'last_edited_date', 'st_area_shape', 'st_perimeter_shape'], axis=1)"
   ]
  },
  {
   "cell_type": "code",
   "execution_count": 456,
   "id": "ced44bd5",
   "metadata": {},
   "outputs": [],
   "source": [
    "paris['% Abs/Ins'] = (paris['nb_inscrit'] - paris['nb_votant']) / paris['nb_inscrit'] * 100\n",
    "paris['% macron_emmanuel'] = paris['macron_emmanuel'] / paris['nb_exprime'] * 100\n",
    "paris['% le_pen_marine'] = paris['le_pen_marine'] / paris['nb_exprime'] * 100"
   ]
  },
  {
   "cell_type": "code",
   "execution_count": 457,
   "id": "3029c225",
   "metadata": {},
   "outputs": [],
   "source": [
    "paris = paris.drop(['nb_inscrit', 'nb_exprime', 'macron_emmanuel', 'le_pen_marine'], axis=1)"
   ]
  },
  {
   "cell_type": "code",
   "execution_count": 458,
   "id": "f2827c84",
   "metadata": {},
   "outputs": [],
   "source": [
    "paris.rename(columns={'nb_votant':'Votants'}, inplace=True)\n",
    "paris.rename(columns={'id_bvote':'id_bv'}, inplace=True)\n",
    "formatted.rename(columns={'id_bvote':'id_bv'}, inplace=True)"
   ]
  },
  {
   "cell_type": "code",
   "execution_count": 459,
   "id": "2c3203f4",
   "metadata": {},
   "outputs": [],
   "source": [
    "paris['Libellé de la commune'] = 'Paris'"
   ]
  },
  {
   "cell_type": "code",
   "execution_count": 460,
   "id": "185c7c25",
   "metadata": {},
   "outputs": [],
   "source": [
    "#virer paris de geojson\n",
    "geojson = geojson[~geojson['id_bv'].str.startswith('75')]\n",
    "paris_copy = paris"
   ]
  },
  {
   "cell_type": "code",
   "execution_count": 461,
   "id": "57bf38ce",
   "metadata": {},
   "outputs": [],
   "source": [
    "paris = paris.drop(['geometry'], axis=1)"
   ]
  },
  {
   "cell_type": "code",
   "execution_count": 462,
   "id": "396a30d4",
   "metadata": {},
   "outputs": [],
   "source": [
    "formatted = pd.concat([formatted, paris], ignore_index=True)"
   ]
  },
  {
   "cell_type": "code",
   "execution_count": 463,
   "id": "11286546-4cf6-491e-a198-4f227e32369e",
   "metadata": {},
   "outputs": [],
   "source": [
    "paris_copy = paris_copy.drop(['% Abs/Ins', '% macron_emmanuel', '% le_pen_marine', 'Libellé de la commune', 'Votants'], axis=1)"
   ]
  },
  {
   "cell_type": "code",
   "execution_count": 464,
   "id": "f52e99bf-2c95-4c6e-b47e-556940d7694f",
   "metadata": {},
   "outputs": [],
   "source": [
    "geojson = pd.concat([geojson, paris_copy], ignore_index=True)"
   ]
  },
  {
   "cell_type": "code",
   "execution_count": 465,
   "id": "f71cb14b-0d85-49e9-8928-a003e4b38bdc",
   "metadata": {},
   "outputs": [],
   "source": [
    "merged = geojson.merge(formatted, on=\"id_bv\", how=\"left\")\n",
    "merged = gpd.GeoDataFrame(merged)"
   ]
  },
  {
   "cell_type": "code",
   "execution_count": 466,
   "id": "5856f4b4-55d0-4ba4-91b2-418883cc4eab",
   "metadata": {},
   "outputs": [],
   "source": [
    "merged.to_file('contours.json')"
   ]
  },
  {
   "cell_type": "code",
   "execution_count": null,
   "id": "0f35fcb1-c788-4ab0-950e-16cd168324b4",
   "metadata": {},
   "outputs": [],
   "source": []
  }
 ],
 "metadata": {
  "kernelspec": {
   "display_name": "Python 3 (ipykernel)",
   "language": "python",
   "name": "python3"
  },
  "language_info": {
   "codemirror_mode": {
    "name": "ipython",
    "version": 3
   },
   "file_extension": ".py",
   "mimetype": "text/x-python",
   "name": "python",
   "nbconvert_exporter": "python",
   "pygments_lexer": "ipython3",
   "version": "3.10.12"
  }
 },
 "nbformat": 4,
 "nbformat_minor": 5
}

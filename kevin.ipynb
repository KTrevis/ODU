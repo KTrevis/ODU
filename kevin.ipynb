{
 "cells": [
  {
   "cell_type": "code",
   "execution_count": 2,
   "id": "9edc1af9-0ae4-4781-95d9-b7bf9f14eba2",
   "metadata": {},
   "outputs": [],
   "source": [
    "import pandas as pd\n",
    "import geopandas as gpd"
   ]
  },
  {
   "cell_type": "code",
   "execution_count": 111,
   "id": "079a6801-8820-434b-9a4a-fca6d4a0aedb",
   "metadata": {},
   "outputs": [],
   "source": [
    "excel = pd.read_excel(\"/home/eden/Documents/data/resultats-par-niveau-burvot-t2-france-entiere.xlsx\", dtype = str)"
   ]
  },
  {
   "cell_type": "code",
   "execution_count": 112,
   "id": "21755575",
   "metadata": {},
   "outputs": [],
   "source": [
    "geojson = gpd.read_file(\"/home/eden/Documents/data/contour_vote_latest.geojson.geojson\")"
   ]
  },
  {
   "cell_type": "code",
   "execution_count": 113,
   "id": "19f9263d",
   "metadata": {},
   "outputs": [],
   "source": [
    "paris =  gpd.read_file('/home/eden/Documents/data/paris.geojson')"
   ]
  },
  {
   "cell_type": "code",
   "execution_count": 114,
   "id": "c904399b-8303-45b2-98ba-a1a422beb75a",
   "metadata": {},
   "outputs": [],
   "source": [
    "excel.at[7984, 'Code du b.vote'] = \"40.1\" #ajustement caen"
   ]
  },
  {
   "cell_type": "code",
   "execution_count": 115,
   "id": "04f6795e-4a1e-4a32-819f-0857e83a229f",
   "metadata": {},
   "outputs": [],
   "source": [
    "excel['Code du b.vote'] = excel['Code du b.vote'].str.lstrip('0') #enlever les 0 pour correspondre au geojson"
   ]
  },
  {
   "cell_type": "code",
   "execution_count": 116,
   "id": "ad14f4c5-8f20-42ea-959d-a0375f8bfc4d",
   "metadata": {},
   "outputs": [],
   "source": [
    "#tom + bureau étranger\n",
    "excel = excel[excel['Code du département'] != 'ZZ']\n",
    "excel = excel[excel['Code du département'] != 'ZX']\n",
    "excel = excel[excel['Code du département'] != 'ZW']\n",
    "excel = excel[excel['Code du département'] != 'ZP']\n",
    "excel = excel[excel['Code du département'] != 'ZN']\n",
    "excel.loc[~excel['Code du département'].astype(str).str.contains(r'\\d', na=False), 'Code du département'] = '97'\n",
    "#virer paris\n",
    "excel = excel[excel['Libellé de la commune'] != 'Paris']"
   ]
  },
  {
   "cell_type": "code",
   "execution_count": 117,
   "id": "f700dbf2-2dd7-4f7d-b58a-cc88ffd702ee",
   "metadata": {},
   "outputs": [],
   "source": [
    "#renommer les unamed de excel\n",
    "def renameShit():\n",
    "    to_rename = ['N°Panneau', 'Sexe', 'Nom', 'Prénom', 'Voix', '% Voix/Ins','% Voix/Exp']\n",
    "    for curr in to_rename:\n",
    "        excel.rename(columns={curr: curr + '.1'}, inplace=True)\n",
    "    unnamed = ['Unnamed: 28', 'Unnamed: 29','Unnamed: 30', 'Unnamed: 31', 'Unnamed: 32','Unnamed: 33','Unnamed: 34']\n",
    "    for i in range(len(to_rename)):\n",
    "        excel.rename(columns={unnamed[i]: to_rename[i] + '.2'}, inplace=True)\n",
    "renameShit()"
   ]
  },
  {
   "cell_type": "code",
   "execution_count": 118,
   "id": "645bd5aa-9222-4b7b-9583-363e19874bd1",
   "metadata": {},
   "outputs": [],
   "source": [
    "#nouveau df formatted avec juste les colonnes importantes de excel\n",
    "formatted = pd.DataFrame()\n",
    "formatted['id_bvote'] = excel['Code du département'] + excel['Code de la commune'] + '_' + excel['Code du b.vote']\n",
    "nom = ['Libellé de la commune', 'Votants', '% Abs/Ins', '% Voix/Exp.1', '% Voix/Exp.2']\n",
    "for curr in nom:\n",
    "    formatted[nom] = excel[nom]\n",
    "formatted.rename(columns={'% Voix/Exp.1': '% macron_emmanuel'}, inplace=True)\n",
    "formatted.rename(columns={'% Voix/Exp.2': '% le_pen_marine'}, inplace=True)"
   ]
  },
  {
   "cell_type": "code",
   "execution_count": 119,
   "id": "a00e800d",
   "metadata": {},
   "outputs": [
    {
     "data": {
      "text/plain": [
       "Index(['id_bvote', 'type_election', 'annee', 'numero_tour', 'date_tour',\n",
       "       'circ_bv', 'quartier_bv', 'arr_bv', 'sec_bv', 'num_bureau',\n",
       "       'nb_procuration', 'nb_inscrit', 'nb_emargement', 'nb_votant',\n",
       "       'nb_vote_blanc', 'nb_vote_nul', 'nb_exprime', 'macron_emmanuel',\n",
       "       'le_pen_marine', 'geo_point_2d', 'created_user', 'created_date',\n",
       "       'last_edited_user', 'last_edited_date', 'st_area_shape',\n",
       "       'st_perimeter_shape', 'geometry'],\n",
       "      dtype='object')"
      ]
     },
     "execution_count": 119,
     "metadata": {},
     "output_type": "execute_result"
    }
   ],
   "source": [
    "paris.columns"
   ]
  },
  {
   "cell_type": "code",
   "execution_count": 120,
   "id": "e447ae18-578d-4774-854f-750625f132ed",
   "metadata": {},
   "outputs": [],
   "source": [
    "paris = paris.drop(columns=['type_election', 'annee', 'numero_tour', 'date_tour', 'circ_bv', 'quartier_bv', 'arr_bv', \n",
    "                    'sec_bv', 'num_bureau', 'nb_procuration', 'nb_emargement', 'nb_vote_blanc',\n",
    "                    'nb_vote_nul', 'geo_point_2d', 'created_user', 'created_date', 'last_edited_user',\n",
    "                   'last_edited_date', 'st_area_shape', 'st_perimeter_shape'], axis=1)"
   ]
  },
  {
   "cell_type": "code",
   "execution_count": 121,
   "id": "ced44bd5",
   "metadata": {},
   "outputs": [],
   "source": [
    "paris['% Abs/Ins'] = (paris['nb_inscrit'] - paris['nb_votant'])/ paris['nb_inscrit'] * 100\n",
    "paris['% macron_emmanuel'] = paris['macron_emmanuel']/ paris['nb_exprime'] * 100\n",
    "paris['% le_pen_marine'] = paris['le_pen_marine']/ paris['nb_exprime'] * 100"
   ]
  },
  {
   "cell_type": "code",
   "execution_count": 122,
   "id": "3029c225",
   "metadata": {},
   "outputs": [],
   "source": [
    "paris = paris.drop(['nb_inscrit', 'nb_exprime', 'macron_emmanuel', 'le_pen_marine'], axis=1)"
   ]
  },
  {
   "cell_type": "code",
   "execution_count": 123,
   "id": "f2827c84",
   "metadata": {},
   "outputs": [],
   "source": [
    "paris.rename(columns={'nb_votant':'Votants'}, inplace=True)\n",
    "paris.rename(columns={'id_bvote':'id_bv'}, inplace=True)\n",
    "formatted.rename(columns={'id_bvote':'id_bv'}, inplace=True)"
   ]
  },
  {
   "cell_type": "code",
   "execution_count": 124,
   "id": "811bac5c-f2a8-414a-953e-6dc5bea0bda1",
   "metadata": {},
   "outputs": [
    {
     "name": "stdout",
     "output_type": "stream",
     "text": [
      "Index(['id_bv', 'geometry'], dtype='object')\n",
      "Index(['id_bv', 'Votants', 'geometry', '% Abs/Ins', '% macron_emmanuel',\n",
      "       '% le_pen_marine'],\n",
      "      dtype='object')\n",
      "Index(['id_bv', 'Libellé de la commune', 'Votants', '% Abs/Ins',\n",
      "       '% macron_emmanuel', '% le_pen_marine'],\n",
      "      dtype='object')\n"
     ]
    }
   ],
   "source": [
    "print(geojson.columns)\n",
    "print(paris.columns)\n",
    "print(formatted.columns)\n",
    "#print(excel['Voix.1'][0])"
   ]
  },
  {
   "cell_type": "code",
   "execution_count": 125,
   "id": "2c3203f4",
   "metadata": {},
   "outputs": [],
   "source": [
    "paris['Libellé de la commune'] = 'Paris'"
   ]
  },
  {
   "cell_type": "code",
   "execution_count": 126,
   "id": "be95d880",
   "metadata": {},
   "outputs": [
    {
     "data": {
      "text/html": [
       "<div>\n",
       "<style scoped>\n",
       "    .dataframe tbody tr th:only-of-type {\n",
       "        vertical-align: middle;\n",
       "    }\n",
       "\n",
       "    .dataframe tbody tr th {\n",
       "        vertical-align: top;\n",
       "    }\n",
       "\n",
       "    .dataframe thead th {\n",
       "        text-align: right;\n",
       "    }\n",
       "</style>\n",
       "<table border=\"1\" class=\"dataframe\">\n",
       "  <thead>\n",
       "    <tr style=\"text-align: right;\">\n",
       "      <th></th>\n",
       "      <th>id_bv</th>\n",
       "      <th>Votants</th>\n",
       "      <th>geometry</th>\n",
       "      <th>% Abs/Ins</th>\n",
       "      <th>% macron_emmanuel</th>\n",
       "      <th>% le_pen_marine</th>\n",
       "      <th>Libellé de la commune</th>\n",
       "    </tr>\n",
       "  </thead>\n",
       "  <tbody>\n",
       "    <tr>\n",
       "      <th>0</th>\n",
       "      <td>14-28</td>\n",
       "      <td>1222</td>\n",
       "      <td>POLYGON ((2.32779 48.83619, 2.32781 48.83619, ...</td>\n",
       "      <td>20.390879</td>\n",
       "      <td>89.714780</td>\n",
       "      <td>10.285220</td>\n",
       "      <td>Paris</td>\n",
       "    </tr>\n",
       "    <tr>\n",
       "      <th>1</th>\n",
       "      <td>13-7</td>\n",
       "      <td>1159</td>\n",
       "      <td>POLYGON ((2.35490 48.83591, 2.35490 48.83593, ...</td>\n",
       "      <td>30.390390</td>\n",
       "      <td>83.471837</td>\n",
       "      <td>16.528163</td>\n",
       "      <td>Paris</td>\n",
       "    </tr>\n",
       "    <tr>\n",
       "      <th>2</th>\n",
       "      <td>15-28</td>\n",
       "      <td>1176</td>\n",
       "      <td>POLYGON ((2.30481 48.84479, 2.30481 48.84477, ...</td>\n",
       "      <td>22.376238</td>\n",
       "      <td>83.946188</td>\n",
       "      <td>16.053812</td>\n",
       "      <td>Paris</td>\n",
       "    </tr>\n",
       "    <tr>\n",
       "      <th>3</th>\n",
       "      <td>9-14</td>\n",
       "      <td>1305</td>\n",
       "      <td>POLYGON ((2.33229 48.88286, 2.33232 48.88285, ...</td>\n",
       "      <td>19.094854</td>\n",
       "      <td>90.560000</td>\n",
       "      <td>9.440000</td>\n",
       "      <td>Paris</td>\n",
       "    </tr>\n",
       "    <tr>\n",
       "      <th>4</th>\n",
       "      <td>12-57</td>\n",
       "      <td>1175</td>\n",
       "      <td>POLYGON ((2.38328 48.84486, 2.38326 48.84493, ...</td>\n",
       "      <td>23.898964</td>\n",
       "      <td>89.633028</td>\n",
       "      <td>10.366972</td>\n",
       "      <td>Paris</td>\n",
       "    </tr>\n",
       "    <tr>\n",
       "      <th>5</th>\n",
       "      <td>19-53</td>\n",
       "      <td>916</td>\n",
       "      <td>POLYGON ((2.37112 48.88948, 2.37110 48.88948, ...</td>\n",
       "      <td>39.095745</td>\n",
       "      <td>85.973398</td>\n",
       "      <td>14.026602</td>\n",
       "      <td>Paris</td>\n",
       "    </tr>\n",
       "    <tr>\n",
       "      <th>6</th>\n",
       "      <td>3-10</td>\n",
       "      <td>1318</td>\n",
       "      <td>POLYGON ((2.35813 48.86340, 2.35811 48.86337, ...</td>\n",
       "      <td>23.549884</td>\n",
       "      <td>88.310649</td>\n",
       "      <td>11.689351</td>\n",
       "      <td>Paris</td>\n",
       "    </tr>\n",
       "    <tr>\n",
       "      <th>7</th>\n",
       "      <td>17-58</td>\n",
       "      <td>1054</td>\n",
       "      <td>POLYGON ((2.28647 48.88694, 2.28652 48.88694, ...</td>\n",
       "      <td>27.510316</td>\n",
       "      <td>76.476578</td>\n",
       "      <td>23.523422</td>\n",
       "      <td>Paris</td>\n",
       "    </tr>\n",
       "    <tr>\n",
       "      <th>8</th>\n",
       "      <td>1-5</td>\n",
       "      <td>846</td>\n",
       "      <td>POLYGON ((2.34594 48.86295, 2.34592 48.86294, ...</td>\n",
       "      <td>22.242647</td>\n",
       "      <td>85.997522</td>\n",
       "      <td>14.002478</td>\n",
       "      <td>Paris</td>\n",
       "    </tr>\n",
       "    <tr>\n",
       "      <th>9</th>\n",
       "      <td>15-34</td>\n",
       "      <td>1315</td>\n",
       "      <td>POLYGON ((2.31663 48.84681, 2.31665 48.84679, ...</td>\n",
       "      <td>20.206311</td>\n",
       "      <td>83.896940</td>\n",
       "      <td>16.103060</td>\n",
       "      <td>Paris</td>\n",
       "    </tr>\n",
       "    <tr>\n",
       "      <th>10</th>\n",
       "      <td>17-65</td>\n",
       "      <td>1121</td>\n",
       "      <td>POLYGON ((2.28890 48.87591, 2.28889 48.87592, ...</td>\n",
       "      <td>19.871337</td>\n",
       "      <td>84.522706</td>\n",
       "      <td>15.477294</td>\n",
       "      <td>Paris</td>\n",
       "    </tr>\n",
       "    <tr>\n",
       "      <th>11</th>\n",
       "      <td>11-8</td>\n",
       "      <td>1164</td>\n",
       "      <td>POLYGON ((2.38433 48.85011, 2.38426 48.85013, ...</td>\n",
       "      <td>23.921569</td>\n",
       "      <td>89.818182</td>\n",
       "      <td>10.181818</td>\n",
       "      <td>Paris</td>\n",
       "    </tr>\n",
       "    <tr>\n",
       "      <th>12</th>\n",
       "      <td>19-47</td>\n",
       "      <td>1270</td>\n",
       "      <td>POLYGON ((2.38734 48.89184, 2.38737 48.89182, ...</td>\n",
       "      <td>32.230523</td>\n",
       "      <td>85.653288</td>\n",
       "      <td>14.346712</td>\n",
       "      <td>Paris</td>\n",
       "    </tr>\n",
       "    <tr>\n",
       "      <th>13</th>\n",
       "      <td>11-18</td>\n",
       "      <td>1234</td>\n",
       "      <td>POLYGON ((2.36708 48.86170, 2.36716 48.86172, ...</td>\n",
       "      <td>22.389937</td>\n",
       "      <td>89.152542</td>\n",
       "      <td>10.847458</td>\n",
       "      <td>Paris</td>\n",
       "    </tr>\n",
       "    <tr>\n",
       "      <th>14</th>\n",
       "      <td>16-65</td>\n",
       "      <td>1051</td>\n",
       "      <td>POLYGON ((2.29988 48.86531, 2.29982 48.86529, ...</td>\n",
       "      <td>26.657362</td>\n",
       "      <td>80.138340</td>\n",
       "      <td>19.861660</td>\n",
       "      <td>Paris</td>\n",
       "    </tr>\n",
       "  </tbody>\n",
       "</table>\n",
       "</div>"
      ],
      "text/plain": [
       "    id_bv  Votants                                           geometry  \\\n",
       "0   14-28     1222  POLYGON ((2.32779 48.83619, 2.32781 48.83619, ...   \n",
       "1    13-7     1159  POLYGON ((2.35490 48.83591, 2.35490 48.83593, ...   \n",
       "2   15-28     1176  POLYGON ((2.30481 48.84479, 2.30481 48.84477, ...   \n",
       "3    9-14     1305  POLYGON ((2.33229 48.88286, 2.33232 48.88285, ...   \n",
       "4   12-57     1175  POLYGON ((2.38328 48.84486, 2.38326 48.84493, ...   \n",
       "5   19-53      916  POLYGON ((2.37112 48.88948, 2.37110 48.88948, ...   \n",
       "6    3-10     1318  POLYGON ((2.35813 48.86340, 2.35811 48.86337, ...   \n",
       "7   17-58     1054  POLYGON ((2.28647 48.88694, 2.28652 48.88694, ...   \n",
       "8     1-5      846  POLYGON ((2.34594 48.86295, 2.34592 48.86294, ...   \n",
       "9   15-34     1315  POLYGON ((2.31663 48.84681, 2.31665 48.84679, ...   \n",
       "10  17-65     1121  POLYGON ((2.28890 48.87591, 2.28889 48.87592, ...   \n",
       "11   11-8     1164  POLYGON ((2.38433 48.85011, 2.38426 48.85013, ...   \n",
       "12  19-47     1270  POLYGON ((2.38734 48.89184, 2.38737 48.89182, ...   \n",
       "13  11-18     1234  POLYGON ((2.36708 48.86170, 2.36716 48.86172, ...   \n",
       "14  16-65     1051  POLYGON ((2.29988 48.86531, 2.29982 48.86529, ...   \n",
       "\n",
       "    % Abs/Ins  % macron_emmanuel  % le_pen_marine Libellé de la commune  \n",
       "0   20.390879          89.714780        10.285220                 Paris  \n",
       "1   30.390390          83.471837        16.528163                 Paris  \n",
       "2   22.376238          83.946188        16.053812                 Paris  \n",
       "3   19.094854          90.560000         9.440000                 Paris  \n",
       "4   23.898964          89.633028        10.366972                 Paris  \n",
       "5   39.095745          85.973398        14.026602                 Paris  \n",
       "6   23.549884          88.310649        11.689351                 Paris  \n",
       "7   27.510316          76.476578        23.523422                 Paris  \n",
       "8   22.242647          85.997522        14.002478                 Paris  \n",
       "9   20.206311          83.896940        16.103060                 Paris  \n",
       "10  19.871337          84.522706        15.477294                 Paris  \n",
       "11  23.921569          89.818182        10.181818                 Paris  \n",
       "12  32.230523          85.653288        14.346712                 Paris  \n",
       "13  22.389937          89.152542        10.847458                 Paris  \n",
       "14  26.657362          80.138340        19.861660                 Paris  "
      ]
     },
     "execution_count": 126,
     "metadata": {},
     "output_type": "execute_result"
    }
   ],
   "source": [
    "paris.head(15)"
   ]
  },
  {
   "cell_type": "code",
   "execution_count": 127,
   "id": "185c7c25",
   "metadata": {},
   "outputs": [],
   "source": [
    "#virer paris de geojson\n",
    "geojson = geojson[~geojson['id_bv'].str.startswith('75')]"
   ]
  },
  {
   "cell_type": "code",
   "execution_count": 128,
   "id": "d6f1d743",
   "metadata": {},
   "outputs": [
    {
     "name": "stdout",
     "output_type": "stream",
     "text": [
      "67909\n",
      "67998\n"
     ]
    }
   ],
   "source": [
    "#print(len(geojson))\n",
    "#print(len(formatted))"
   ]
  },
  {
   "cell_type": "code",
   "execution_count": 133,
   "id": "0f82fa5b",
   "metadata": {},
   "outputs": [],
   "source": [
    "#diff = geojson[~geojson['id_bv'].isin(formatted['id_bv'])]"
   ]
  },
  {
   "cell_type": "code",
   "execution_count": 134,
   "id": "e0758506",
   "metadata": {},
   "outputs": [],
   "source": [
    "#print(diff.head(25))"
   ]
  },
  {
   "cell_type": "code",
   "execution_count": 135,
   "id": "57bf38ce",
   "metadata": {},
   "outputs": [],
   "source": [
    "paris = paris.drop(['geometry'], axis=1)"
   ]
  },
  {
   "cell_type": "code",
   "execution_count": 136,
   "id": "c074e026",
   "metadata": {},
   "outputs": [
    {
     "data": {
      "text/plain": [
       "Index(['id_bv', 'Votants', '% Abs/Ins', '% macron_emmanuel', '% le_pen_marine',\n",
       "       'Libellé de la commune'],\n",
       "      dtype='object')"
      ]
     },
     "execution_count": 136,
     "metadata": {},
     "output_type": "execute_result"
    }
   ],
   "source": [
    "#paris.columns"
   ]
  },
  {
   "cell_type": "code",
   "execution_count": 138,
   "id": "396a30d4",
   "metadata": {},
   "outputs": [
    {
     "name": "stdout",
     "output_type": "stream",
     "text": [
      "       id_bv Libellé de la commune Votants  % Abs/Ins % macron_emmanuel  \\\n",
      "69781  15-16                 Paris    1394  20.660216         80.363912   \n",
      "69782  16-17                 Paris    1145  20.153417         88.808007   \n",
      "69783  15-49                 Paris    1051  36.109422         76.938987   \n",
      "69784    2-6                 Paris    1145  21.305842           89.4785   \n",
      "69785   9-13                 Paris    1192   24.31746         89.664311   \n",
      "69786  16-23                 Paris    1134  21.793103         83.010157   \n",
      "69787  18-29                 Paris    1296  21.786361         89.508197   \n",
      "69788   5-19                 Paris    1109  20.558739         84.555985   \n",
      "69789  15-56                 Paris    1368  23.232323         82.408131   \n",
      "69790  15-41                 Paris    1241  23.630769         80.709343   \n",
      "69791    3-7                 Paris    1170  18.862691         89.892665   \n",
      "69792  17-22                 Paris     861  27.586207         84.692597   \n",
      "69793  14-48                 Paris    1095  29.263566         79.341317   \n",
      "69794   7-22                 Paris    1027  22.314675         80.287474   \n",
      "69795   11-7                 Paris    1187  23.022049         90.691489   \n",
      "\n",
      "      % le_pen_marine  \n",
      "69781       19.636088  \n",
      "69782       11.191993  \n",
      "69783       23.061013  \n",
      "69784         10.5215  \n",
      "69785       10.335689  \n",
      "69786       16.989843  \n",
      "69787       10.491803  \n",
      "69788       15.444015  \n",
      "69789       17.591869  \n",
      "69790       19.290657  \n",
      "69791       10.107335  \n",
      "69792       15.307403  \n",
      "69793       20.658683  \n",
      "69794       19.712526  \n",
      "69795        9.308511  \n"
     ]
    }
   ],
   "source": [
    "formatted = pd.concat([formatted, paris], ignore_index=True)\n",
    "print(formatted.tail(15))"
   ]
  },
  {
   "cell_type": "code",
   "execution_count": null,
   "id": "217e757b",
   "metadata": {},
   "outputs": [],
   "source": [
    "#formatted.to_csv(\"formatted.csv\")"
   ]
  }
 ],
 "metadata": {
  "kernelspec": {
   "display_name": "Python 3 (ipykernel)",
   "language": "python",
   "name": "python3"
  },
  "language_info": {
   "codemirror_mode": {
    "name": "ipython",
    "version": 3
   },
   "file_extension": ".py",
   "mimetype": "text/x-python",
   "name": "python",
   "nbconvert_exporter": "python",
   "pygments_lexer": "ipython3",
   "version": "3.11.7"
  }
 },
 "nbformat": 4,
 "nbformat_minor": 5
}
